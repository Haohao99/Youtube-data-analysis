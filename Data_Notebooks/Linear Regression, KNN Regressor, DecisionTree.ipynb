{
 "cells": [
  {
   "cell_type": "code",
   "execution_count": 23,
   "metadata": {},
   "outputs": [],
   "source": [
    "import numpy as np\n",
    "import pandas as pd\n",
    "import seaborn as sns\n",
    "from sklearn.model_selection import train_test_split, GridSearchCV, cross_validate\n",
    "from sklearn.linear_model import LinearRegression\n",
    "from sklearn.preprocessing import PolynomialFeatures, scale\n",
    "from sklearn.neighbors import KNeighborsRegressor\n",
    "import matplotlib.pyplot as plt\n",
    "from sklearn.tree import DecisionTreeRegressor, export_graphviz\n",
    "import graphviz"
   ]
  },
  {
   "cell_type": "code",
   "execution_count": 2,
   "metadata": {},
   "outputs": [
    {
     "name": "stdout",
     "output_type": "stream",
     "text": [
      "(40949, 22)\n"
     ]
    },
    {
     "data": {
      "text/html": [
       "<div>\n",
       "<style scoped>\n",
       "    .dataframe tbody tr th:only-of-type {\n",
       "        vertical-align: middle;\n",
       "    }\n",
       "\n",
       "    .dataframe tbody tr th {\n",
       "        vertical-align: top;\n",
       "    }\n",
       "\n",
       "    .dataframe thead th {\n",
       "        text-align: right;\n",
       "    }\n",
       "</style>\n",
       "<table border=\"1\" class=\"dataframe\">\n",
       "  <thead>\n",
       "    <tr style=\"text-align: right;\">\n",
       "      <th></th>\n",
       "      <th>video_id</th>\n",
       "      <th>trending_date</th>\n",
       "      <th>title</th>\n",
       "      <th>channel_title</th>\n",
       "      <th>publish_date</th>\n",
       "      <th>category_id</th>\n",
       "      <th>publish_time</th>\n",
       "      <th>tags</th>\n",
       "      <th>views</th>\n",
       "      <th>likes</th>\n",
       "      <th>...</th>\n",
       "      <th>thumbnail_link</th>\n",
       "      <th>comments_disabled</th>\n",
       "      <th>ratings_disabled</th>\n",
       "      <th>video_error_or_removed</th>\n",
       "      <th>description</th>\n",
       "      <th>category</th>\n",
       "      <th>hour</th>\n",
       "      <th>min</th>\n",
       "      <th>sec</th>\n",
       "      <th>views in hour</th>\n",
       "    </tr>\n",
       "  </thead>\n",
       "  <tbody>\n",
       "    <tr>\n",
       "      <th>0</th>\n",
       "      <td>2kyS6SvSYSE</td>\n",
       "      <td>17.14.11</td>\n",
       "      <td>WE WANT TO TALK ABOUT OUR MARRIAGE</td>\n",
       "      <td>CaseyNeistat</td>\n",
       "      <td>2017-11-13</td>\n",
       "      <td>22</td>\n",
       "      <td>17:13:01</td>\n",
       "      <td>SHANtell martin</td>\n",
       "      <td>748374</td>\n",
       "      <td>57527</td>\n",
       "      <td>...</td>\n",
       "      <td>https://i.ytimg.com/vi/2kyS6SvSYSE/default.jpg</td>\n",
       "      <td>False</td>\n",
       "      <td>False</td>\n",
       "      <td>False</td>\n",
       "      <td>SHANTELL'S CHANNEL - https://www.youtube.com/s...</td>\n",
       "      <td>People &amp; Blogs</td>\n",
       "      <td>17</td>\n",
       "      <td>13</td>\n",
       "      <td>1</td>\n",
       "      <td>1.603781e+06</td>\n",
       "    </tr>\n",
       "    <tr>\n",
       "      <th>1</th>\n",
       "      <td>1ZAPwfrtAFY</td>\n",
       "      <td>17.14.11</td>\n",
       "      <td>The Trump Presidency: Last Week Tonight with J...</td>\n",
       "      <td>LastWeekTonight</td>\n",
       "      <td>2017-11-13</td>\n",
       "      <td>24</td>\n",
       "      <td>07:30:00</td>\n",
       "      <td>last week tonight trump presidency|\"last week ...</td>\n",
       "      <td>2418783</td>\n",
       "      <td>97185</td>\n",
       "      <td>...</td>\n",
       "      <td>https://i.ytimg.com/vi/1ZAPwfrtAFY/default.jpg</td>\n",
       "      <td>False</td>\n",
       "      <td>False</td>\n",
       "      <td>False</td>\n",
       "      <td>One year after the presidential election, John...</td>\n",
       "      <td>Entertainment</td>\n",
       "      <td>7</td>\n",
       "      <td>30</td>\n",
       "      <td>0</td>\n",
       "      <td>4.147581e+06</td>\n",
       "    </tr>\n",
       "    <tr>\n",
       "      <th>2</th>\n",
       "      <td>5qpjK5DgCt4</td>\n",
       "      <td>17.14.11</td>\n",
       "      <td>Racist Superman | Rudy Mancuso, King Bach &amp; Le...</td>\n",
       "      <td>Rudy Mancuso</td>\n",
       "      <td>2017-11-12</td>\n",
       "      <td>23</td>\n",
       "      <td>19:05:24</td>\n",
       "      <td>racist superman|\"rudy\"|\"mancuso\"|\"king\"|\"bach\"...</td>\n",
       "      <td>3191434</td>\n",
       "      <td>146033</td>\n",
       "      <td>...</td>\n",
       "      <td>https://i.ytimg.com/vi/5qpjK5DgCt4/default.jpg</td>\n",
       "      <td>False</td>\n",
       "      <td>False</td>\n",
       "      <td>False</td>\n",
       "      <td>WATCH MY PREVIOUS VIDEO ▶ \\n\\nSUBSCRIBE ► http...</td>\n",
       "      <td>Comedy</td>\n",
       "      <td>19</td>\n",
       "      <td>5</td>\n",
       "      <td>24</td>\n",
       "      <td>1.467202e+06</td>\n",
       "    </tr>\n",
       "  </tbody>\n",
       "</table>\n",
       "<p>3 rows × 22 columns</p>\n",
       "</div>"
      ],
      "text/plain": [
       "      video_id trending_date  \\\n",
       "0  2kyS6SvSYSE      17.14.11   \n",
       "1  1ZAPwfrtAFY      17.14.11   \n",
       "2  5qpjK5DgCt4      17.14.11   \n",
       "\n",
       "                                               title    channel_title  \\\n",
       "0                 WE WANT TO TALK ABOUT OUR MARRIAGE     CaseyNeistat   \n",
       "1  The Trump Presidency: Last Week Tonight with J...  LastWeekTonight   \n",
       "2  Racist Superman | Rudy Mancuso, King Bach & Le...     Rudy Mancuso   \n",
       "\n",
       "  publish_date  category_id publish_time  \\\n",
       "0   2017-11-13           22     17:13:01   \n",
       "1   2017-11-13           24     07:30:00   \n",
       "2   2017-11-12           23     19:05:24   \n",
       "\n",
       "                                                tags    views   likes  ...  \\\n",
       "0                                    SHANtell martin   748374   57527  ...   \n",
       "1  last week tonight trump presidency|\"last week ...  2418783   97185  ...   \n",
       "2  racist superman|\"rudy\"|\"mancuso\"|\"king\"|\"bach\"...  3191434  146033  ...   \n",
       "\n",
       "                                   thumbnail_link  comments_disabled  \\\n",
       "0  https://i.ytimg.com/vi/2kyS6SvSYSE/default.jpg              False   \n",
       "1  https://i.ytimg.com/vi/1ZAPwfrtAFY/default.jpg              False   \n",
       "2  https://i.ytimg.com/vi/5qpjK5DgCt4/default.jpg              False   \n",
       "\n",
       "  ratings_disabled  video_error_or_removed  \\\n",
       "0            False                   False   \n",
       "1            False                   False   \n",
       "2            False                   False   \n",
       "\n",
       "                                         description        category hour min  \\\n",
       "0  SHANTELL'S CHANNEL - https://www.youtube.com/s...  People & Blogs   17  13   \n",
       "1  One year after the presidential election, John...   Entertainment    7  30   \n",
       "2  WATCH MY PREVIOUS VIDEO ▶ \\n\\nSUBSCRIBE ► http...          Comedy   19   5   \n",
       "\n",
       "   sec  views in hour  \n",
       "0    1   1.603781e+06  \n",
       "1    0   4.147581e+06  \n",
       "2   24   1.467202e+06  \n",
       "\n",
       "[3 rows x 22 columns]"
      ]
     },
     "execution_count": 2,
     "metadata": {},
     "output_type": "execute_result"
    }
   ],
   "source": [
    "# Load data\n",
    "df = pd.read_csv('./USvideos_dateFormatted.csv')\n",
    "print(df.shape)\n",
    "df.head(3)"
   ]
  },
  {
   "cell_type": "code",
   "execution_count": 3,
   "metadata": {},
   "outputs": [
    {
     "data": {
      "text/plain": [
       "<matplotlib.axes._subplots.AxesSubplot at 0x1370ca1c348>"
      ]
     },
     "execution_count": 3,
     "metadata": {},
     "output_type": "execute_result"
    },
    {
     "data": {
      "image/png": "[encoded data removed]",
      "text/plain": [
       "<Figure size 432x288 with 2 Axes>"
      ]
     },
     "metadata": {
      "needs_background": "light"
     },
     "output_type": "display_data"
    }
   ],
   "source": [
    "corr = df.corr()\n",
    "plt.Figure(figsize=(16,10))\n",
    "sns.heatmap(corr, annot=True,cmap='rainbow')"
   ]
  },
  {
   "cell_type": "code",
   "execution_count": 4,
   "metadata": {},
   "outputs": [
    {
     "data": {
      "text/plain": [
       "views            0.849177\n",
       "likes            1.000000\n",
       "dislikes         0.447186\n",
       "comment_count    0.803057\n",
       "Name: likes, dtype: float64"
      ]
     },
     "execution_count": 4,
     "metadata": {},
     "output_type": "execute_result"
    }
   ],
   "source": [
    "cor = df.corr()\n",
    "cor_target = abs(cor['likes'])\n",
    "\n",
    "#Selecting highly correlated features\n",
    "relevant_features = cor_target[cor_target>0.2]\n",
    "relevant_features"
   ]
  },
  {
   "cell_type": "code",
   "execution_count": 5,
   "metadata": {},
   "outputs": [],
   "source": [
    "df = df[['views','dislikes','comment_count','likes']]"
   ]
  },
  {
   "cell_type": "code",
   "execution_count": 6,
   "metadata": {},
   "outputs": [],
   "source": [
    "features = df[['views','dislikes','comment_count']]\n",
    "target = df.likes"
   ]
  },
  {
   "cell_type": "code",
   "execution_count": 7,
   "metadata": {},
   "outputs": [
    {
     "name": "stdout",
     "output_type": "stream",
     "text": [
      "before:   features shape (40949, 3)\n",
      "after： features_e shape (40949, 6)\n"
     ]
    },
    {
     "data": {
      "text/html": [
       "<div>\n",
       "<style scoped>\n",
       "    .dataframe tbody tr th:only-of-type {\n",
       "        vertical-align: middle;\n",
       "    }\n",
       "\n",
       "    .dataframe tbody tr th {\n",
       "        vertical-align: top;\n",
       "    }\n",
       "\n",
       "    .dataframe thead th {\n",
       "        text-align: right;\n",
       "    }\n",
       "</style>\n",
       "<table border=\"1\" class=\"dataframe\">\n",
       "  <thead>\n",
       "    <tr style=\"text-align: right;\">\n",
       "      <th></th>\n",
       "      <th>views</th>\n",
       "      <th>dislikes</th>\n",
       "      <th>comment_count</th>\n",
       "      <th>views dislikes</th>\n",
       "      <th>views comment_count</th>\n",
       "      <th>dislikes comment_count</th>\n",
       "    </tr>\n",
       "  </thead>\n",
       "  <tbody>\n",
       "    <tr>\n",
       "      <th>0</th>\n",
       "      <td>748374.0</td>\n",
       "      <td>2966.0</td>\n",
       "      <td>15954.0</td>\n",
       "      <td>2.219677e+09</td>\n",
       "      <td>1.193956e+10</td>\n",
       "      <td>47319564.0</td>\n",
       "    </tr>\n",
       "    <tr>\n",
       "      <th>1</th>\n",
       "      <td>2418783.0</td>\n",
       "      <td>6146.0</td>\n",
       "      <td>12703.0</td>\n",
       "      <td>1.486584e+10</td>\n",
       "      <td>3.072580e+10</td>\n",
       "      <td>78072638.0</td>\n",
       "    </tr>\n",
       "    <tr>\n",
       "      <th>2</th>\n",
       "      <td>3191434.0</td>\n",
       "      <td>5339.0</td>\n",
       "      <td>8181.0</td>\n",
       "      <td>1.703907e+10</td>\n",
       "      <td>2.610912e+10</td>\n",
       "      <td>43678359.0</td>\n",
       "    </tr>\n",
       "  </tbody>\n",
       "</table>\n",
       "</div>"
      ],
      "text/plain": [
       "       views  dislikes  comment_count  views dislikes  views comment_count  \\\n",
       "0   748374.0    2966.0        15954.0    2.219677e+09         1.193956e+10   \n",
       "1  2418783.0    6146.0        12703.0    1.486584e+10         3.072580e+10   \n",
       "2  3191434.0    5339.0         8181.0    1.703907e+10         2.610912e+10   \n",
       "\n",
       "   dislikes comment_count  \n",
       "0              47319564.0  \n",
       "1              78072638.0  \n",
       "2              43678359.0  "
      ]
     },
     "execution_count": 7,
     "metadata": {},
     "output_type": "execute_result"
    }
   ],
   "source": [
    "# creats extra features\n",
    "poly = PolynomialFeatures(2,interaction_only=True,include_bias = False)\n",
    "features_e = poly.fit_transform(features)\n",
    "cols = poly.get_feature_names(features.columns)\n",
    "features_e = pd.DataFrame(features_e,columns=cols)\n",
    "print('before:   features shape',features.shape)\n",
    "print('after： features_e shape',features_e.shape)\n",
    "features_e.head(3)"
   ]
  },
  {
   "cell_type": "code",
   "execution_count": 8,
   "metadata": {},
   "outputs": [
    {
     "data": {
      "text/html": [
       "<div>\n",
       "<style scoped>\n",
       "    .dataframe tbody tr th:only-of-type {\n",
       "        vertical-align: middle;\n",
       "    }\n",
       "\n",
       "    .dataframe tbody tr th {\n",
       "        vertical-align: top;\n",
       "    }\n",
       "\n",
       "    .dataframe thead th {\n",
       "        text-align: right;\n",
       "    }\n",
       "</style>\n",
       "<table border=\"1\" class=\"dataframe\">\n",
       "  <thead>\n",
       "    <tr style=\"text-align: right;\">\n",
       "      <th></th>\n",
       "      <th>views</th>\n",
       "      <th>dislikes</th>\n",
       "      <th>comment_count</th>\n",
       "      <th>views dislikes</th>\n",
       "      <th>views comment_count</th>\n",
       "      <th>dislikes comment_count</th>\n",
       "    </tr>\n",
       "  </thead>\n",
       "  <tbody>\n",
       "    <tr>\n",
       "      <th>0</th>\n",
       "      <td>-0.218067</td>\n",
       "      <td>-0.025677</td>\n",
       "      <td>0.200564</td>\n",
       "      <td>-0.040953</td>\n",
       "      <td>-0.056854</td>\n",
       "      <td>-0.027302</td>\n",
       "    </tr>\n",
       "    <tr>\n",
       "      <th>1</th>\n",
       "      <td>0.007844</td>\n",
       "      <td>0.083866</td>\n",
       "      <td>0.113709</td>\n",
       "      <td>-0.036153</td>\n",
       "      <td>-0.050885</td>\n",
       "      <td>-0.026175</td>\n",
       "    </tr>\n",
       "    <tr>\n",
       "      <th>2</th>\n",
       "      <td>0.112339</td>\n",
       "      <td>0.056067</td>\n",
       "      <td>-0.007101</td>\n",
       "      <td>-0.035328</td>\n",
       "      <td>-0.052352</td>\n",
       "      <td>-0.027436</td>\n",
       "    </tr>\n",
       "  </tbody>\n",
       "</table>\n",
       "</div>"
      ],
      "text/plain": [
       "      views  dislikes  comment_count  views dislikes  views comment_count  \\\n",
       "0 -0.218067 -0.025677       0.200564       -0.040953            -0.056854   \n",
       "1  0.007844  0.083866       0.113709       -0.036153            -0.050885   \n",
       "2  0.112339  0.056067      -0.007101       -0.035328            -0.052352   \n",
       "\n",
       "   dislikes comment_count  \n",
       "0               -0.027302  \n",
       "1               -0.026175  \n",
       "2               -0.027436  "
      ]
     },
     "execution_count": 8,
     "metadata": {},
     "output_type": "execute_result"
    }
   ],
   "source": [
    "# standardize features\n",
    "features_e = (features_e - features_e.mean())/features_e.std()\n",
    "features_e.head(3)"
   ]
  },
  {
   "cell_type": "code",
   "execution_count": 9,
   "metadata": {},
   "outputs": [
    {
     "data": {
      "text/html": [
       "<div>\n",
       "<style scoped>\n",
       "    .dataframe tbody tr th:only-of-type {\n",
       "        vertical-align: middle;\n",
       "    }\n",
       "\n",
       "    .dataframe tbody tr th {\n",
       "        vertical-align: top;\n",
       "    }\n",
       "\n",
       "    .dataframe thead th {\n",
       "        text-align: right;\n",
       "    }\n",
       "</style>\n",
       "<table border=\"1\" class=\"dataframe\">\n",
       "  <thead>\n",
       "    <tr style=\"text-align: right;\">\n",
       "      <th></th>\n",
       "      <th>views</th>\n",
       "      <th>dislikes</th>\n",
       "      <th>comment_count</th>\n",
       "      <th>views dislikes</th>\n",
       "      <th>views comment_count</th>\n",
       "      <th>dislikes comment_count</th>\n",
       "      <th>bias</th>\n",
       "    </tr>\n",
       "  </thead>\n",
       "  <tbody>\n",
       "    <tr>\n",
       "      <th>0</th>\n",
       "      <td>-0.218067</td>\n",
       "      <td>-0.025677</td>\n",
       "      <td>0.200564</td>\n",
       "      <td>-0.040953</td>\n",
       "      <td>-0.056854</td>\n",
       "      <td>-0.027302</td>\n",
       "      <td>1</td>\n",
       "    </tr>\n",
       "    <tr>\n",
       "      <th>1</th>\n",
       "      <td>0.007844</td>\n",
       "      <td>0.083866</td>\n",
       "      <td>0.113709</td>\n",
       "      <td>-0.036153</td>\n",
       "      <td>-0.050885</td>\n",
       "      <td>-0.026175</td>\n",
       "      <td>1</td>\n",
       "    </tr>\n",
       "    <tr>\n",
       "      <th>2</th>\n",
       "      <td>0.112339</td>\n",
       "      <td>0.056067</td>\n",
       "      <td>-0.007101</td>\n",
       "      <td>-0.035328</td>\n",
       "      <td>-0.052352</td>\n",
       "      <td>-0.027436</td>\n",
       "      <td>1</td>\n",
       "    </tr>\n",
       "  </tbody>\n",
       "</table>\n",
       "</div>"
      ],
      "text/plain": [
       "      views  dislikes  comment_count  views dislikes  views comment_count  \\\n",
       "0 -0.218067 -0.025677       0.200564       -0.040953            -0.056854   \n",
       "1  0.007844  0.083866       0.113709       -0.036153            -0.050885   \n",
       "2  0.112339  0.056067      -0.007101       -0.035328            -0.052352   \n",
       "\n",
       "   dislikes comment_count  bias  \n",
       "0               -0.027302     1  \n",
       "1               -0.026175     1  \n",
       "2               -0.027436     1  "
      ]
     },
     "execution_count": 9,
     "metadata": {},
     "output_type": "execute_result"
    }
   ],
   "source": [
    "# create bias column of ones\n",
    "features_e['bias'] = 1\n",
    "features_e.head(3)"
   ]
  },
  {
   "cell_type": "code",
   "execution_count": 10,
   "metadata": {
    "scrolled": true
   },
   "outputs": [
    {
     "data": {
      "text/html": [
       "<div>\n",
       "<style scoped>\n",
       "    .dataframe tbody tr th:only-of-type {\n",
       "        vertical-align: middle;\n",
       "    }\n",
       "\n",
       "    .dataframe tbody tr th {\n",
       "        vertical-align: top;\n",
       "    }\n",
       "\n",
       "    .dataframe thead th {\n",
       "        text-align: right;\n",
       "    }\n",
       "</style>\n",
       "<table border=\"1\" class=\"dataframe\">\n",
       "  <thead>\n",
       "    <tr style=\"text-align: right;\">\n",
       "      <th></th>\n",
       "      <th>mean</th>\n",
       "      <th>std</th>\n",
       "    </tr>\n",
       "  </thead>\n",
       "  <tbody>\n",
       "    <tr>\n",
       "      <th>views</th>\n",
       "      <td>3.319092e-16</td>\n",
       "      <td>1.0</td>\n",
       "    </tr>\n",
       "    <tr>\n",
       "      <th>dislikes</th>\n",
       "      <td>-1.362774e-16</td>\n",
       "      <td>1.0</td>\n",
       "    </tr>\n",
       "    <tr>\n",
       "      <th>comment_count</th>\n",
       "      <td>5.906693e-16</td>\n",
       "      <td>1.0</td>\n",
       "    </tr>\n",
       "    <tr>\n",
       "      <th>views dislikes</th>\n",
       "      <td>5.766252e-17</td>\n",
       "      <td>1.0</td>\n",
       "    </tr>\n",
       "    <tr>\n",
       "      <th>views comment_count</th>\n",
       "      <td>-3.683211e-16</td>\n",
       "      <td>1.0</td>\n",
       "    </tr>\n",
       "    <tr>\n",
       "      <th>dislikes comment_count</th>\n",
       "      <td>-1.485539e-16</td>\n",
       "      <td>1.0</td>\n",
       "    </tr>\n",
       "    <tr>\n",
       "      <th>bias</th>\n",
       "      <td>1.000000e+00</td>\n",
       "      <td>0.0</td>\n",
       "    </tr>\n",
       "  </tbody>\n",
       "</table>\n",
       "</div>"
      ],
      "text/plain": [
       "                                mean  std\n",
       "views                   3.319092e-16  1.0\n",
       "dislikes               -1.362774e-16  1.0\n",
       "comment_count           5.906693e-16  1.0\n",
       "views dislikes          5.766252e-17  1.0\n",
       "views comment_count    -3.683211e-16  1.0\n",
       "dislikes comment_count -1.485539e-16  1.0\n",
       "bias                    1.000000e+00  0.0"
      ]
     },
     "execution_count": 10,
     "metadata": {},
     "output_type": "execute_result"
    }
   ],
   "source": [
    "features_e.describe().T[['mean','std']]"
   ]
  },
  {
   "cell_type": "markdown",
   "metadata": {},
   "source": [
    "# Linear Regression"
   ]
  },
  {
   "cell_type": "code",
   "execution_count": 11,
   "metadata": {},
   "outputs": [
    {
     "name": "stdout",
     "output_type": "stream",
     "text": [
      "R2 train 0.89\n",
      "R2 test 0.826\n"
     ]
    }
   ],
   "source": [
    "lr = LinearRegression(fit_intercept=False)\n",
    "cv_results = cross_validate(lr,\n",
    "                           features_e,\n",
    "                           target,\n",
    "                           return_train_score=True)\n",
    "R2_train = cv_results['train_score'].mean()\n",
    "R2_test = cv_results['test_score'].mean()\n",
    "print('R2 train', R2_train.round(3))\n",
    "print('R2 test',R2_test.round(3))"
   ]
  },
  {
   "cell_type": "code",
   "execution_count": 12,
   "metadata": {},
   "outputs": [
    {
     "name": "stdout",
     "output_type": "stream",
     "text": [
      "comment_count             176941.469497\n",
      "views                     123804.106227\n",
      "bias                       74266.702435\n",
      "views dislikes             36687.505982\n",
      "views comment_count       -34700.651073\n",
      "dislikes comment_count    -45883.427066\n",
      "dislikes                  -47631.052571\n",
      "dtype: float64\n"
     ]
    }
   ],
   "source": [
    "# coefficients\n",
    "lr.fit(features_e,target)\n",
    "coef = pd.Series(lr.coef_, index=features_e.columns)\n",
    "print(coef.sort_values(ascending=False).head(100))"
   ]
  },
  {
   "cell_type": "markdown",
   "metadata": {},
   "source": [
    "# KNN Regressor"
   ]
  },
  {
   "cell_type": "code",
   "execution_count": 13,
   "metadata": {},
   "outputs": [],
   "source": [
    "(df_train, df_test) = train_test_split(df,train_size=0.8,test_size=0.2,shuffle=True,random_state=0)"
   ]
  },
  {
   "cell_type": "code",
   "execution_count": 14,
   "metadata": {},
   "outputs": [],
   "source": [
    "#select features and target\n",
    "features_train = df_train.iloc[:,0:-1]\n",
    "features_test = df_test.iloc[:,0:-1]\n",
    "targets_train = df_train.iloc[:,-1]\n",
    "targets_test = df_test.iloc[:,-1]"
   ]
  },
  {
   "cell_type": "code",
   "execution_count": 15,
   "metadata": {},
   "outputs": [],
   "source": [
    "# standardize\n",
    "features_train = scale(features_train)\n",
    "features_test = scale(features_test)"
   ]
  },
  {
   "cell_type": "code",
   "execution_count": 16,
   "metadata": {},
   "outputs": [
    {
     "data": {
      "text/html": [
       "<div>\n",
       "<style scoped>\n",
       "    .dataframe tbody tr th:only-of-type {\n",
       "        vertical-align: middle;\n",
       "    }\n",
       "\n",
       "    .dataframe tbody tr th {\n",
       "        vertical-align: top;\n",
       "    }\n",
       "\n",
       "    .dataframe thead th {\n",
       "        text-align: right;\n",
       "    }\n",
       "</style>\n",
       "<table border=\"1\" class=\"dataframe\">\n",
       "  <thead>\n",
       "    <tr style=\"text-align: right;\">\n",
       "      <th></th>\n",
       "      <th>num_neighbors</th>\n",
       "      <th>train R2</th>\n",
       "      <th>test R2</th>\n",
       "    </tr>\n",
       "  </thead>\n",
       "  <tbody>\n",
       "    <tr>\n",
       "      <th>0</th>\n",
       "      <td>1</td>\n",
       "      <td>1.000000</td>\n",
       "      <td>0.907707</td>\n",
       "    </tr>\n",
       "    <tr>\n",
       "      <th>1</th>\n",
       "      <td>2</td>\n",
       "      <td>0.984913</td>\n",
       "      <td>0.928401</td>\n",
       "    </tr>\n",
       "    <tr>\n",
       "      <th>2</th>\n",
       "      <td>3</td>\n",
       "      <td>0.978878</td>\n",
       "      <td>0.937696</td>\n",
       "    </tr>\n",
       "    <tr>\n",
       "      <th>3</th>\n",
       "      <td>4</td>\n",
       "      <td>0.972810</td>\n",
       "      <td>0.938187</td>\n",
       "    </tr>\n",
       "    <tr>\n",
       "      <th>4</th>\n",
       "      <td>5</td>\n",
       "      <td>0.969361</td>\n",
       "      <td>0.939103</td>\n",
       "    </tr>\n",
       "    <tr>\n",
       "      <th>5</th>\n",
       "      <td>6</td>\n",
       "      <td>0.965714</td>\n",
       "      <td>0.938608</td>\n",
       "    </tr>\n",
       "    <tr>\n",
       "      <th>6</th>\n",
       "      <td>7</td>\n",
       "      <td>0.962332</td>\n",
       "      <td>0.939611</td>\n",
       "    </tr>\n",
       "    <tr>\n",
       "      <th>7</th>\n",
       "      <td>8</td>\n",
       "      <td>0.958758</td>\n",
       "      <td>0.938381</td>\n",
       "    </tr>\n",
       "    <tr>\n",
       "      <th>8</th>\n",
       "      <td>9</td>\n",
       "      <td>0.954588</td>\n",
       "      <td>0.937087</td>\n",
       "    </tr>\n",
       "    <tr>\n",
       "      <th>9</th>\n",
       "      <td>10</td>\n",
       "      <td>0.951330</td>\n",
       "      <td>0.935472</td>\n",
       "    </tr>\n",
       "  </tbody>\n",
       "</table>\n",
       "</div>"
      ],
      "text/plain": [
       "   num_neighbors  train R2   test R2\n",
       "0              1  1.000000  0.907707\n",
       "1              2  0.984913  0.928401\n",
       "2              3  0.978878  0.937696\n",
       "3              4  0.972810  0.938187\n",
       "4              5  0.969361  0.939103\n",
       "5              6  0.965714  0.938608\n",
       "6              7  0.962332  0.939611\n",
       "7              8  0.958758  0.938381\n",
       "8              9  0.954588  0.937087\n",
       "9             10  0.951330  0.935472"
      ]
     },
     "execution_count": 16,
     "metadata": {},
     "output_type": "execute_result"
    }
   ],
   "source": [
    "num_neighbors = []\n",
    "R2_train = []\n",
    "R2_test = []\n",
    "for K in np.arange(100)+1:\n",
    "    knn = KNeighborsRegressor(n_neighbors=K)\n",
    "    knn.fit(features_train, targets_train)\n",
    "    num_neighbors.append(K)\n",
    "    R2_train.append(knn.score(features_train, targets_train))\n",
    "    R2_test.append(knn.score(features_test, targets_test))\n",
    "\n",
    "errors = pd.DataFrame()\n",
    "errors['num_neighbors'] = num_neighbors\n",
    "errors['train R2'] = R2_train\n",
    "errors['test R2'] = R2_test\n",
    "errors.head(10)"
   ]
  },
  {
   "cell_type": "code",
   "execution_count": 17,
   "metadata": {},
   "outputs": [
    {
     "data": {
      "text/plain": [
       "Text(0, 0.5, 'R2')"
      ]
     },
     "execution_count": 17,
     "metadata": {},
     "output_type": "execute_result"
    },
    {
     "data": {
      "image/png": "[encoded data removed]",
      "text/plain": [
       "<Figure size 432x288 with 1 Axes>"
      ]
     },
     "metadata": {
      "needs_background": "light"
     },
     "output_type": "display_data"
    }
   ],
   "source": [
    "ax1 = errors.plot.line(x = 'num_neighbors', y = 'train R2')\n",
    "errors.plot.line(x = 'num_neighbors', y = 'test R2', ax = ax1)\n",
    "plt.ylabel('R2')"
   ]
  },
  {
   "cell_type": "code",
   "execution_count": 18,
   "metadata": {},
   "outputs": [
    {
     "name": "stdout",
     "output_type": "stream",
     "text": [
      "      Max test R-sqr =  0.94\n",
      "optimal n_neighbors = 7\n"
     ]
    }
   ],
   "source": [
    "print('      Max test R-sqr = ', round(errors['test R2'].max(),2))\n",
    "ix = errors['test R2'].idxmax()\n",
    "print('optimal n_neighbors =',errors.num_neighbors[ix])"
   ]
  },
  {
   "cell_type": "markdown",
   "metadata": {},
   "source": [
    "### KNN: Check R-square"
   ]
  },
  {
   "cell_type": "code",
   "execution_count": 19,
   "metadata": {},
   "outputs": [
    {
     "data": {
      "text/plain": [
       "1946683849.376646"
      ]
     },
     "execution_count": 19,
     "metadata": {},
     "output_type": "execute_result"
    }
   ],
   "source": [
    "knn = KNeighborsRegressor(n_neighbors=7)\n",
    "knn.fit(features_train, targets_train)\n",
    "yh = knn.predict(features_train)\n",
    "y = targets_train\n",
    "mse_knn = ((y-yh)**2).mean()\n",
    "mse_knn"
   ]
  },
  {
   "cell_type": "code",
   "execution_count": 20,
   "metadata": {},
   "outputs": [
    {
     "data": {
      "text/plain": [
       "51680545562.37503"
      ]
     },
     "execution_count": 20,
     "metadata": {},
     "output_type": "execute_result"
    }
   ],
   "source": [
    "b = y.mean()\n",
    "mse_bias = ((y-b)**2).mean()\n",
    "mse_bias"
   ]
  },
  {
   "cell_type": "code",
   "execution_count": 21,
   "metadata": {},
   "outputs": [
    {
     "data": {
      "text/plain": [
       "0.9623324"
      ]
     },
     "execution_count": 21,
     "metadata": {},
     "output_type": "execute_result"
    }
   ],
   "source": [
    "R2 = 1 - mse_knn/mse_bias\n",
    "round(R2,7)"
   ]
  },
  {
   "cell_type": "markdown",
   "metadata": {},
   "source": [
    "# Decision Tree"
   ]
  },
  {
   "cell_type": "markdown",
   "metadata": {},
   "source": [
    "### Determine the depth that maximize the test R2"
   ]
  },
  {
   "cell_type": "code",
   "execution_count": 42,
   "metadata": {},
   "outputs": [
    {
     "name": "stdout",
     "output_type": "stream",
     "text": [
      "\n",
      "best alpha = {'max_depth': 7}   test R2 = 0.784\n"
     ]
    },
    {
     "data": {
      "text/plain": [
       "<matplotlib.axes._subplots.AxesSubplot at 0x1370b4222c8>"
      ]
     },
     "execution_count": 42,
     "metadata": {},
     "output_type": "execute_result"
    },
    {
     "data": {
      "image/png": "[encoded data removed]",
      "text/plain": [
       "<Figure size 432x288 with 1 Axes>"
      ]
     },
     "metadata": {
      "needs_background": "light"
     },
     "output_type": "display_data"
    }
   ],
   "source": [
    "grid = {'max_depth':np.arange(1,25)}\n",
    "\n",
    "tree = DecisionTreeRegressor()\n",
    "treeCV = GridSearchCV(tree,param_grid=grid,return_train_score=True)\n",
    "treeCV.fit(features,target)\n",
    "\n",
    "print()\n",
    "print('best alpha =',treeCV.best_params_, '  test R2 =',treeCV.best_score_.round(3))\n",
    "\n",
    "results = pd.DataFrame()\n",
    "results['depth'] = grid['max_depth']\n",
    "results['train R2'] = treeCV.cv_results_['mean_train_score']\n",
    "results['test R2']  = treeCV.cv_results_['mean_test_score']\n",
    "ax1 = results.plot.line(x='depth',y='train R2')\n",
    "results.plot.line(x='depth',y='test R2',ax=ax1)"
   ]
  },
  {
   "cell_type": "markdown",
   "metadata": {},
   "source": [
    "#### Draw the tree"
   ]
  },
  {
   "cell_type": "code",
   "execution_count": 43,
   "metadata": {},
   "outputs": [
    {
     "data": {
      "text/plain": [
       "DecisionTreeRegressor(ccp_alpha=0.0, criterion='mse', max_depth=2,\n",
       "                      max_features=None, max_leaf_nodes=None,\n",
       "                      min_impurity_decrease=0.0, min_impurity_split=None,\n",
       "                      min_samples_leaf=1, min_samples_split=2,\n",
       "                      min_weight_fraction_leaf=0.0, presort='deprecated',\n",
       "                      random_state=None, splitter='best')"
      ]
     },
     "execution_count": 43,
     "metadata": {},
     "output_type": "execute_result"
    }
   ],
   "source": [
    "tree = DecisionTreeRegressor(max_depth=2)\n",
    "tree.fit(features,target)"
   ]
  },
  {
   "cell_type": "code",
   "execution_count": 44,
   "metadata": {},
   "outputs": [
    {
     "data": {
      "image/svg+xml": [
       "<?xml version=\"1.0\" encoding=\"UTF-8\" standalone=\"no\"?>\r\n",
       "<!DOCTYPE svg PUBLIC \"-//W3C//DTD SVG 1.1//EN\"\r\n",
       " \"http://www.w3.org/Graphics/SVG/1.1/DTD/svg11.dtd\">\r\n",
       "<!-- Generated by graphviz version 2.38.0 (20140413.2041)\r\n",
       " -->\r\n",
       "<!-- Title: Tree Pages: 1 -->\r\n",
       "<svg width=\"803pt\" height=\"269pt\"\r\n",
       " viewBox=\"0.00 0.00 802.50 269.00\" xmlns=\"http://www.w3.org/2000/svg\" xmlns:xlink=\"http://www.w3.org/1999/xlink\">\r\n",
       "<g id=\"graph0\" class=\"graph\" transform=\"scale(1 1) rotate(0) translate(4 265)\">\r\n",
       "<title>Tree</title>\r\n",
       "<polygon fill=\"white\" stroke=\"none\" points=\"-4,4 -4,-265 798.5,-265 798.5,4 -4,4\"/>\r\n",
       "<!-- 0 -->\r\n",
       "<g id=\"node1\" class=\"node\"><title>0</title>\r\n",
       "<path fill=\"#fffefd\" stroke=\"black\" d=\"M472.5,-261C472.5,-261 292.5,-261 292.5,-261 286.5,-261 280.5,-255 280.5,-249 280.5,-249 280.5,-205 280.5,-205 280.5,-199 286.5,-193 292.5,-193 292.5,-193 472.5,-193 472.5,-193 478.5,-193 484.5,-199 484.5,-205 484.5,-205 484.5,-249 484.5,-249 484.5,-255 478.5,-261 472.5,-261\"/>\r\n",
       "<text text-anchor=\"middle\" x=\"382.5\" y=\"-245.8\" font-family=\"Helvetica,sans-Serif\" font-size=\"14.00\">comment_count &lt;= 106670.0</text>\r\n",
       "<text text-anchor=\"middle\" x=\"382.5\" y=\"-230.8\" font-family=\"Helvetica,sans-Serif\" font-size=\"14.00\">mse = 52387218687.633</text>\r\n",
       "<text text-anchor=\"middle\" x=\"382.5\" y=\"-215.8\" font-family=\"Helvetica,sans-Serif\" font-size=\"14.00\">samples = 100.0%</text>\r\n",
       "<text text-anchor=\"middle\" x=\"382.5\" y=\"-200.8\" font-family=\"Helvetica,sans-Serif\" font-size=\"14.00\">value = 74266.702</text>\r\n",
       "</g>\r\n",
       "<!-- 1 -->\r\n",
       "<g id=\"node2\" class=\"node\"><title>1</title>\r\n",
       "<path fill=\"#fffefe\" stroke=\"black\" d=\"M361.5,-157C361.5,-157 189.5,-157 189.5,-157 183.5,-157 177.5,-151 177.5,-145 177.5,-145 177.5,-101 177.5,-101 177.5,-95 183.5,-89 189.5,-89 189.5,-89 361.5,-89 361.5,-89 367.5,-89 373.5,-95 373.5,-101 373.5,-101 373.5,-145 373.5,-145 373.5,-151 367.5,-157 361.5,-157\"/>\r\n",
       "<text text-anchor=\"middle\" x=\"275.5\" y=\"-141.8\" font-family=\"Helvetica,sans-Serif\" font-size=\"14.00\">comment_count &lt;= 22280.5</text>\r\n",
       "<text text-anchor=\"middle\" x=\"275.5\" y=\"-126.8\" font-family=\"Helvetica,sans-Serif\" font-size=\"14.00\">mse = 15733764063.814</text>\r\n",
       "<text text-anchor=\"middle\" x=\"275.5\" y=\"-111.8\" font-family=\"Helvetica,sans-Serif\" font-size=\"14.00\">samples = 99.0%</text>\r\n",
       "<text text-anchor=\"middle\" x=\"275.5\" y=\"-96.8\" font-family=\"Helvetica,sans-Serif\" font-size=\"14.00\">value = 59373.286</text>\r\n",
       "</g>\r\n",
       "<!-- 0&#45;&gt;1 -->\r\n",
       "<g id=\"edge1\" class=\"edge\"><title>0&#45;&gt;1</title>\r\n",
       "<path fill=\"none\" stroke=\"black\" d=\"M347.76,-192.884C338.229,-183.798 327.789,-173.845 317.881,-164.4\"/>\r\n",
       "<polygon fill=\"black\" stroke=\"black\" points=\"320.085,-161.666 310.432,-157.299 315.255,-166.733 320.085,-161.666\"/>\r\n",
       "<text text-anchor=\"middle\" x=\"311.03\" y=\"-178.592\" font-family=\"Helvetica,sans-Serif\" font-size=\"14.00\">True</text>\r\n",
       "</g>\r\n",
       "<!-- 4 -->\r\n",
       "<g id=\"node5\" class=\"node\"><title>4</title>\r\n",
       "<path fill=\"#f4c9ab\" stroke=\"black\" d=\"M575.5,-157C575.5,-157 403.5,-157 403.5,-157 397.5,-157 391.5,-151 391.5,-145 391.5,-145 391.5,-101 391.5,-101 391.5,-95 397.5,-89 403.5,-89 403.5,-89 575.5,-89 575.5,-89 581.5,-89 587.5,-95 587.5,-101 587.5,-101 587.5,-145 587.5,-145 587.5,-151 581.5,-157 575.5,-157\"/>\r\n",
       "<text text-anchor=\"middle\" x=\"489.5\" y=\"-141.8\" font-family=\"Helvetica,sans-Serif\" font-size=\"14.00\">views &lt;= 73447868.0</text>\r\n",
       "<text text-anchor=\"middle\" x=\"489.5\" y=\"-126.8\" font-family=\"Helvetica,sans-Serif\" font-size=\"14.00\">mse = 1447299212581.574</text>\r\n",
       "<text text-anchor=\"middle\" x=\"489.5\" y=\"-111.8\" font-family=\"Helvetica,sans-Serif\" font-size=\"14.00\">samples = 1.0%</text>\r\n",
       "<text text-anchor=\"middle\" x=\"489.5\" y=\"-96.8\" font-family=\"Helvetica,sans-Serif\" font-size=\"14.00\">value = 1615165.388</text>\r\n",
       "</g>\r\n",
       "<!-- 0&#45;&gt;4 -->\r\n",
       "<g id=\"edge4\" class=\"edge\"><title>0&#45;&gt;4</title>\r\n",
       "<path fill=\"none\" stroke=\"black\" d=\"M417.24,-192.884C426.771,-183.798 437.211,-173.845 447.119,-164.4\"/>\r\n",
       "<polygon fill=\"black\" stroke=\"black\" points=\"449.745,-166.733 454.568,-157.299 444.915,-161.666 449.745,-166.733\"/>\r\n",
       "<text text-anchor=\"middle\" x=\"453.97\" y=\"-178.592\" font-family=\"Helvetica,sans-Serif\" font-size=\"14.00\">False</text>\r\n",
       "</g>\r\n",
       "<!-- 2 -->\r\n",
       "<g id=\"node3\" class=\"node\"><title>2</title>\r\n",
       "<path fill=\"#ffffff\" stroke=\"black\" d=\"M159,-53C159,-53 12,-53 12,-53 6,-53 0,-47 0,-41 0,-41 0,-12 0,-12 0,-6 6,-0 12,-0 12,-0 159,-0 159,-0 165,-0 171,-6 171,-12 171,-12 171,-41 171,-41 171,-47 165,-53 159,-53\"/>\r\n",
       "<text text-anchor=\"middle\" x=\"85.5\" y=\"-37.8\" font-family=\"Helvetica,sans-Serif\" font-size=\"14.00\">mse = 3241993350.762</text>\r\n",
       "<text text-anchor=\"middle\" x=\"85.5\" y=\"-22.8\" font-family=\"Helvetica,sans-Serif\" font-size=\"14.00\">samples = 92.6%</text>\r\n",
       "<text text-anchor=\"middle\" x=\"85.5\" y=\"-7.8\" font-family=\"Helvetica,sans-Serif\" font-size=\"14.00\">value = 36835.59</text>\r\n",
       "</g>\r\n",
       "<!-- 1&#45;&gt;2 -->\r\n",
       "<g id=\"edge2\" class=\"edge\"><title>1&#45;&gt;2</title>\r\n",
       "<path fill=\"none\" stroke=\"black\" d=\"M209.047,-88.9485C188.538,-78.748 166.073,-67.5744 145.989,-57.5852\"/>\r\n",
       "<polygon fill=\"black\" stroke=\"black\" points=\"147.456,-54.4062 136.944,-53.0867 144.339,-60.6738 147.456,-54.4062\"/>\r\n",
       "</g>\r\n",
       "<!-- 3 -->\r\n",
       "<g id=\"node4\" class=\"node\"><title>3</title>\r\n",
       "<path fill=\"#fdf3ed\" stroke=\"black\" d=\"M356,-53C356,-53 201,-53 201,-53 195,-53 189,-47 189,-41 189,-41 189,-12 189,-12 189,-6 195,-0 201,-0 201,-0 356,-0 356,-0 362,-0 368,-6 368,-12 368,-12 368,-41 368,-41 368,-47 362,-53 356,-53\"/>\r\n",
       "<text text-anchor=\"middle\" x=\"278.5\" y=\"-37.8\" font-family=\"Helvetica,sans-Serif\" font-size=\"14.00\">mse = 83279169413.831</text>\r\n",
       "<text text-anchor=\"middle\" x=\"278.5\" y=\"-22.8\" font-family=\"Helvetica,sans-Serif\" font-size=\"14.00\">samples = 6.5%</text>\r\n",
       "<text text-anchor=\"middle\" x=\"278.5\" y=\"-7.8\" font-family=\"Helvetica,sans-Serif\" font-size=\"14.00\">value = 381244.543</text>\r\n",
       "</g>\r\n",
       "<!-- 1&#45;&gt;3 -->\r\n",
       "<g id=\"edge3\" class=\"edge\"><title>1&#45;&gt;3</title>\r\n",
       "<path fill=\"none\" stroke=\"black\" d=\"M276.549,-88.9485C276.811,-80.7153 277.092,-71.848 277.358,-63.4814\"/>\r\n",
       "<polygon fill=\"black\" stroke=\"black\" points=\"280.864,-63.3428 277.683,-53.2367 273.867,-63.1206 280.864,-63.3428\"/>\r\n",
       "</g>\r\n",
       "<!-- 5 -->\r\n",
       "<g id=\"node6\" class=\"node\"><title>5</title>\r\n",
       "<path fill=\"#f7d6be\" stroke=\"black\" d=\"M568.5,-53C568.5,-53 404.5,-53 404.5,-53 398.5,-53 392.5,-47 392.5,-41 392.5,-41 392.5,-12 392.5,-12 392.5,-6 398.5,-0 404.5,-0 404.5,-0 568.5,-0 568.5,-0 574.5,-0 580.5,-6 580.5,-12 580.5,-12 580.5,-41 580.5,-41 580.5,-47 574.5,-53 568.5,-53\"/>\r\n",
       "<text text-anchor=\"middle\" x=\"486.5\" y=\"-37.8\" font-family=\"Helvetica,sans-Serif\" font-size=\"14.00\">mse = 557738037354.952</text>\r\n",
       "<text text-anchor=\"middle\" x=\"486.5\" y=\"-22.8\" font-family=\"Helvetica,sans-Serif\" font-size=\"14.00\">samples = 0.8%</text>\r\n",
       "<text text-anchor=\"middle\" x=\"486.5\" y=\"-7.8\" font-family=\"Helvetica,sans-Serif\" font-size=\"14.00\">value = 1245681.569</text>\r\n",
       "</g>\r\n",
       "<!-- 4&#45;&gt;5 -->\r\n",
       "<g id=\"edge5\" class=\"edge\"><title>4&#45;&gt;5</title>\r\n",
       "<path fill=\"none\" stroke=\"black\" d=\"M488.451,-88.9485C488.189,-80.7153 487.908,-71.848 487.642,-63.4814\"/>\r\n",
       "<polygon fill=\"black\" stroke=\"black\" points=\"491.133,-63.1206 487.317,-53.2367 484.136,-63.3428 491.133,-63.1206\"/>\r\n",
       "</g>\r\n",
       "<!-- 6 -->\r\n",
       "<g id=\"node7\" class=\"node\"><title>6</title>\r\n",
       "<path fill=\"#e58139\" stroke=\"black\" d=\"M782.5,-53C782.5,-53 610.5,-53 610.5,-53 604.5,-53 598.5,-47 598.5,-41 598.5,-41 598.5,-12 598.5,-12 598.5,-6 604.5,-0 610.5,-0 610.5,-0 782.5,-0 782.5,-0 788.5,-0 794.5,-6 794.5,-12 794.5,-12 794.5,-41 794.5,-41 794.5,-47 788.5,-53 782.5,-53\"/>\r\n",
       "<text text-anchor=\"middle\" x=\"696.5\" y=\"-37.8\" font-family=\"Helvetica,sans-Serif\" font-size=\"14.00\">mse = 1256607207840.043</text>\r\n",
       "<text text-anchor=\"middle\" x=\"696.5\" y=\"-22.8\" font-family=\"Helvetica,sans-Serif\" font-size=\"14.00\">samples = 0.1%</text>\r\n",
       "<text text-anchor=\"middle\" x=\"696.5\" y=\"-7.8\" font-family=\"Helvetica,sans-Serif\" font-size=\"14.00\">value = 3742882.552</text>\r\n",
       "</g>\r\n",
       "<!-- 4&#45;&gt;6 -->\r\n",
       "<g id=\"edge6\" class=\"edge\"><title>4&#45;&gt;6</title>\r\n",
       "<path fill=\"none\" stroke=\"black\" d=\"M561.899,-88.9485C584.444,-78.6562 609.159,-67.3729 631.19,-57.3155\"/>\r\n",
       "<polygon fill=\"black\" stroke=\"black\" points=\"632.81,-60.4236 640.453,-53.0867 629.903,-54.0558 632.81,-60.4236\"/>\r\n",
       "</g>\r\n",
       "</g>\r\n",
       "</svg>\r\n"
      ],
      "text/plain": [
       "<graphviz.files.Source at 0x1370f6447c8>"
      ]
     },
     "execution_count": 44,
     "metadata": {},
     "output_type": "execute_result"
    }
   ],
   "source": [
    "dot_data = export_graphviz(tree,\n",
    "                          out_file=None,\n",
    "                          feature_names= features.columns,\n",
    "                          proportion = True,\n",
    "                          impurity=True,\n",
    "                          filled=True,\n",
    "                          rounded= True)\n",
    "graph = graphviz.Source(dot_data)\n",
    "graph"
   ]
  },
  {
   "cell_type": "code",
   "execution_count": 45,
   "metadata": {},
   "outputs": [
    {
     "data": {
      "text/plain": [
       "'LikesDecisionTree3.pdf'"
      ]
     },
     "execution_count": 45,
     "metadata": {},
     "output_type": "execute_result"
    }
   ],
   "source": [
    "graph.render('LikesDecisionTree3')"
   ]
  },
  {
   "cell_type": "code",
   "execution_count": null,
   "metadata": {},
   "outputs": [],
   "source": []
  }
 ],
 "metadata": {
  "kernelspec": {
   "display_name": "Python 3",
   "language": "python",
   "name": "python3"
  },
  "language_info": {
   "codemirror_mode": {
    "name": "ipython",
    "version": 3
   },
   "file_extension": ".py",
   "mimetype": "text/x-python",
   "name": "python",
   "nbconvert_exporter": "python",
   "pygments_lexer": "ipython3",
   "version": "3.7.7"
  }
 },
 "nbformat": 4,
 "nbformat_minor": 4
}
